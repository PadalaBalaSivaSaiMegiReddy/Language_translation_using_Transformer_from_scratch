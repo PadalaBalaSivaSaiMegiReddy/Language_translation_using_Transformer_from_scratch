{
  "cells": [
    {
      "cell_type": "code",
      "execution_count": null,
      "metadata": {
        "id": "iJ3KyTfKQ6IP"
      },
      "outputs": [],
      "source": [
        "import os\n",
        "import pandas as pd\n",
        "import random\n",
        "import matplotlib.pyplot as plt\n",
        "import tensorflow as tf\n",
        "import string\n",
        "import re\n",
        "import numpy as np"
      ]
    },
    {
      "cell_type": "code",
      "execution_count": null,
      "metadata": {
        "id": "goFfSWscQ_F3",
        "colab": {
          "base_uri": "https://localhost:8080/"
        },
        "outputId": "16590754-b1e6-46c3-ace1-cc343ac721dc"
      },
      "outputs": [
        {
          "output_type": "stream",
          "name": "stdout",
          "text": [
            "Tensor Flow Version: 2.12.0\n",
            "\n",
            "GPU is AVAILABLE\n"
          ]
        }
      ],
      "source": [
        "print(f\"Tensor Flow Version: {tf.__version__}\")\n",
        "print()\n",
        "gpu = len(tf.config.list_physical_devices('GPU'))>0\n",
        "print(\"GPU is\", \"AVAILABLE\" if gpu else \"NOT AVAILABLE\")"
      ]
    },
    {
      "cell_type": "markdown",
      "source": [
        "#Preparing the data"
      ],
      "metadata": {
        "id": "gBqTjLf1wOx5"
      }
    },
    {
      "cell_type": "markdown",
      "source": [
        "Reading the data"
      ],
      "metadata": {
        "id": "v1C8088TwRZT"
      }
    },
    {
      "cell_type": "code",
      "source": [
        "\n",
        "# path = path if os.path.exists(path) else \".{}\".format(path)\n",
        "# file_path = os.path.join(path, \"language-translation-englishfrench\", \"/content/drive/MyDrive/eng_-french.csv\")\n",
        "file_path ='/content/eng_-french.csv'\n",
        "\n",
        "# read the data\n",
        "df = pd.read_csv(file_path)\n",
        "df['source'] = df['English words/sentences']\n",
        "\n",
        "# let's add an initial “seed” token ([start]) and a stop token ([end]) to each target sentence.\n",
        "df['target'] = df['French words/sentences'].apply(lambda x: '[start] ' + x + ' [end]')\n",
        "df = df.drop(['English words/sentences', 'French words/sentences'], axis=1)\n",
        "\n",
        "# display a few random samples\n",
        "df.sample(5)\n"
      ],
      "metadata": {
        "colab": {
          "base_uri": "https://localhost:8080/",
          "height": 206
        },
        "id": "yA-OXY1dRS6B",
        "outputId": "937873a2-cef6-4e31-9440-39cf15ac579b"
      },
      "execution_count": null,
      "outputs": [
        {
          "output_type": "execute_result",
          "data": {
            "text/plain": [
              "                                     source  \\\n",
              "45106                Where are my trousers?   \n",
              "80861          Are you looking for someone?   \n",
              "112637     Will you please show me the way?   \n",
              "77323           It's none of your business.   \n",
              "126299  She assumed an air of indifference.   \n",
              "\n",
              "                                                   target  \n",
              "45106           [start] Où se trouve mon pantalon ? [end]  \n",
              "80861               [start] Tu cherches quelqu'un ? [end]  \n",
              "112637  [start] Me montreras-tu le chemin, s'il te pla...  \n",
              "77323          [start] Ce ne sont pas tes affaires. [end]  \n",
              "126299      [start] Elle a pris un air indifférent. [end]  "
            ],
            "text/html": [
              "\n",
              "  <div id=\"df-0a04abe8-15d8-47f9-b453-774b43448ec7\">\n",
              "    <div class=\"colab-df-container\">\n",
              "      <div>\n",
              "<style scoped>\n",
              "    .dataframe tbody tr th:only-of-type {\n",
              "        vertical-align: middle;\n",
              "    }\n",
              "\n",
              "    .dataframe tbody tr th {\n",
              "        vertical-align: top;\n",
              "    }\n",
              "\n",
              "    .dataframe thead th {\n",
              "        text-align: right;\n",
              "    }\n",
              "</style>\n",
              "<table border=\"1\" class=\"dataframe\">\n",
              "  <thead>\n",
              "    <tr style=\"text-align: right;\">\n",
              "      <th></th>\n",
              "      <th>source</th>\n",
              "      <th>target</th>\n",
              "    </tr>\n",
              "  </thead>\n",
              "  <tbody>\n",
              "    <tr>\n",
              "      <th>45106</th>\n",
              "      <td>Where are my trousers?</td>\n",
              "      <td>[start] Où se trouve mon pantalon ? [end]</td>\n",
              "    </tr>\n",
              "    <tr>\n",
              "      <th>80861</th>\n",
              "      <td>Are you looking for someone?</td>\n",
              "      <td>[start] Tu cherches quelqu'un ? [end]</td>\n",
              "    </tr>\n",
              "    <tr>\n",
              "      <th>112637</th>\n",
              "      <td>Will you please show me the way?</td>\n",
              "      <td>[start] Me montreras-tu le chemin, s'il te pla...</td>\n",
              "    </tr>\n",
              "    <tr>\n",
              "      <th>77323</th>\n",
              "      <td>It's none of your business.</td>\n",
              "      <td>[start] Ce ne sont pas tes affaires. [end]</td>\n",
              "    </tr>\n",
              "    <tr>\n",
              "      <th>126299</th>\n",
              "      <td>She assumed an air of indifference.</td>\n",
              "      <td>[start] Elle a pris un air indifférent. [end]</td>\n",
              "    </tr>\n",
              "  </tbody>\n",
              "</table>\n",
              "</div>\n",
              "      <button class=\"colab-df-convert\" onclick=\"convertToInteractive('df-0a04abe8-15d8-47f9-b453-774b43448ec7')\"\n",
              "              title=\"Convert this dataframe to an interactive table.\"\n",
              "              style=\"display:none;\">\n",
              "        \n",
              "  <svg xmlns=\"http://www.w3.org/2000/svg\" height=\"24px\"viewBox=\"0 0 24 24\"\n",
              "       width=\"24px\">\n",
              "    <path d=\"M0 0h24v24H0V0z\" fill=\"none\"/>\n",
              "    <path d=\"M18.56 5.44l.94 2.06.94-2.06 2.06-.94-2.06-.94-.94-2.06-.94 2.06-2.06.94zm-11 1L8.5 8.5l.94-2.06 2.06-.94-2.06-.94L8.5 2.5l-.94 2.06-2.06.94zm10 10l.94 2.06.94-2.06 2.06-.94-2.06-.94-.94-2.06-.94 2.06-2.06.94z\"/><path d=\"M17.41 7.96l-1.37-1.37c-.4-.4-.92-.59-1.43-.59-.52 0-1.04.2-1.43.59L10.3 9.45l-7.72 7.72c-.78.78-.78 2.05 0 2.83L4 21.41c.39.39.9.59 1.41.59.51 0 1.02-.2 1.41-.59l7.78-7.78 2.81-2.81c.8-.78.8-2.07 0-2.86zM5.41 20L4 18.59l7.72-7.72 1.47 1.35L5.41 20z\"/>\n",
              "  </svg>\n",
              "      </button>\n",
              "      \n",
              "  <style>\n",
              "    .colab-df-container {\n",
              "      display:flex;\n",
              "      flex-wrap:wrap;\n",
              "      gap: 12px;\n",
              "    }\n",
              "\n",
              "    .colab-df-convert {\n",
              "      background-color: #E8F0FE;\n",
              "      border: none;\n",
              "      border-radius: 50%;\n",
              "      cursor: pointer;\n",
              "      display: none;\n",
              "      fill: #1967D2;\n",
              "      height: 32px;\n",
              "      padding: 0 0 0 0;\n",
              "      width: 32px;\n",
              "    }\n",
              "\n",
              "    .colab-df-convert:hover {\n",
              "      background-color: #E2EBFA;\n",
              "      box-shadow: 0px 1px 2px rgba(60, 64, 67, 0.3), 0px 1px 3px 1px rgba(60, 64, 67, 0.15);\n",
              "      fill: #174EA6;\n",
              "    }\n",
              "\n",
              "    [theme=dark] .colab-df-convert {\n",
              "      background-color: #3B4455;\n",
              "      fill: #D2E3FC;\n",
              "    }\n",
              "\n",
              "    [theme=dark] .colab-df-convert:hover {\n",
              "      background-color: #434B5C;\n",
              "      box-shadow: 0px 1px 3px 1px rgba(0, 0, 0, 0.15);\n",
              "      filter: drop-shadow(0px 1px 2px rgba(0, 0, 0, 0.3));\n",
              "      fill: #FFFFFF;\n",
              "    }\n",
              "  </style>\n",
              "\n",
              "      <script>\n",
              "        const buttonEl =\n",
              "          document.querySelector('#df-0a04abe8-15d8-47f9-b453-774b43448ec7 button.colab-df-convert');\n",
              "        buttonEl.style.display =\n",
              "          google.colab.kernel.accessAllowed ? 'block' : 'none';\n",
              "\n",
              "        async function convertToInteractive(key) {\n",
              "          const element = document.querySelector('#df-0a04abe8-15d8-47f9-b453-774b43448ec7');\n",
              "          const dataTable =\n",
              "            await google.colab.kernel.invokeFunction('convertToInteractive',\n",
              "                                                     [key], {});\n",
              "          if (!dataTable) return;\n",
              "\n",
              "          const docLinkHtml = 'Like what you see? Visit the ' +\n",
              "            '<a target=\"_blank\" href=https://colab.research.google.com/notebooks/data_table.ipynb>data table notebook</a>'\n",
              "            + ' to learn more about interactive tables.';\n",
              "          element.innerHTML = '';\n",
              "          dataTable['output_type'] = 'display_data';\n",
              "          await google.colab.output.renderOutput(dataTable, element);\n",
              "          const docLink = document.createElement('div');\n",
              "          docLink.innerHTML = docLinkHtml;\n",
              "          element.appendChild(docLink);\n",
              "        }\n",
              "      </script>\n",
              "    </div>\n",
              "  </div>\n",
              "  "
            ]
          },
          "metadata": {},
          "execution_count": 5
        }
      ]
    },
    {
      "cell_type": "markdown",
      "source": [
        "Shuffling the data and splitting it into train, validation, and test sets"
      ],
      "metadata": {
        "id": "_qQbXm_DwXDV"
      }
    },
    {
      "cell_type": "markdown",
      "source": [
        "max_tokens parameter - \n",
        "sequence lenght - "
      ],
      "metadata": {
        "id": "RTeCRL6Qwo84"
      }
    },
    {
      "cell_type": "code",
      "source": [
        "# shuffle the data\n",
        "df = df.sample(frac=1).reset_index(drop=True)\n",
        "\n",
        "# split the data into train, validation, and test sets\n",
        "train_size = int(len(df) * 0.7)\n",
        "val_size = int(len(df) * 0.2)\n",
        "test_size = int(len(df) * 0.1)\n",
        "\n",
        "train_df = df[:train_size]\n",
        "val_df = df[train_size:train_size+val_size]\n",
        "test_df = df[train_size+val_size:]\n",
        "\n",
        "# display the data sets representations using a pie chart just to see the distribution of the data\n",
        "labels = 'Train', 'Validation', 'Test'\n",
        "sizes = [len(train_df), len(val_df), len(test_df)]\n",
        "explode = (0.1, 0, 0)\n",
        "fig1, ax1 = plt.subplots()\n",
        "ax1.pie(sizes, explode=explode, labels=labels, autopct='%1.1f%%', shadow=True, startangle=90)\n",
        "ax1.axis('equal')\n",
        "plt.show()"
      ],
      "metadata": {
        "colab": {
          "base_uri": "https://localhost:8080/",
          "height": 406
        },
        "id": "5c04n2WYSus7",
        "outputId": "a2ab9b6f-bd4a-4384-c704-570cd724ded7"
      },
      "execution_count": null,
      "outputs": [
        {
          "output_type": "display_data",
          "data": {
            "text/plain": [
              "<Figure size 640x480 with 1 Axes>"
            ],
            "image/png": "[encoded data removed]"
          },
          "metadata": {}
        }
      ]
    },
    {
      "cell_type": "markdown",
      "source": [
        "Standardizing, tokenizing and indexing the data"
      ],
      "metadata": {
        "id": "z4sIIAg-waVP"
      }
    },
    {
      "cell_type": "code",
      "source": [
        "max_tokens = 25000\n",
        "sequence_length = 30\n",
        "\n",
        "# define a custom standardization function that convert to lowercase and strips all punctuations except \"[\" and \"]\" (so we can tell apart \"start\" from \"[start]\").\n",
        "strip_chars = string.punctuation\n",
        "strip_chars = strip_chars.replace(\"[\", \"\")\n",
        "strip_chars = strip_chars.replace(\"]\", \"\")\n",
        " \n",
        "def custom_standardization(input_string):\n",
        "    lowercase = tf.strings.lower(input_string)\n",
        "    return tf.strings.regex_replace(\n",
        "        lowercase, f\"[{re.escape(strip_chars)}]\", \"\")\n",
        "\n",
        "# tokenize the data using our custom standardization function\n",
        "source_vectorization = tf.keras.layers.TextVectorization(\n",
        "    max_tokens=max_tokens,\n",
        "    output_mode=\"int\",\n",
        "    output_sequence_length=sequence_length,\n",
        ")\n",
        "target_vectorization = tf.keras.layers.TextVectorization(\n",
        "    max_tokens=max_tokens,\n",
        "    output_mode=\"int\",\n",
        "    output_sequence_length=sequence_length + 1, # add +1 token to our target sentences since they'll be shifted right by 1 during training\n",
        "    standardize=custom_standardization,\n",
        ")\n",
        "# index all tokens in the source and target sentences\n",
        "train_source_texts = train_df['source'].values\n",
        "train_target_texts = train_df['target'].values\n",
        "source_vectorization.adapt(train_source_texts)\n",
        "target_vectorization.adapt(train_target_texts)"
      ],
      "metadata": {
        "id": "kyMJe52PS71y"
      },
      "execution_count": null,
      "outputs": []
    },
    {
      "cell_type": "code",
      "source": [
        "# display a random sample before and after vectorization just to test the vectorization\n",
        "random_sample = random.randint(0, len(train_df))\n",
        "print(\"Source texts (one random sample):\", train_source_texts[random_sample])\n",
        "print(\"Target texts (one random sample):\", train_target_texts[random_sample])\n",
        "print(\"Source vectors (one random sample):\", source_vectorization(train_source_texts[random_sample]))\n",
        "print(\"Target vectors (one random sample):\", target_vectorization(train_target_texts[random_sample]))\n",
        "\n",
        "# display the decoding of the vectorized text (from vector back to text) just to test the vectorization\n",
        "source_decoded_text = ''\n",
        "for i in range(len(source_vectorization(train_source_texts[random_sample]))):\n",
        "    source_decoded_text += source_vectorization.get_vocabulary()[source_vectorization(train_source_texts[random_sample])[i]] + ' '\n",
        "print(\"Source decoded texts (one random sample):\", source_decoded_text)\n",
        "target_decoded_text = ''\n",
        "for i in range(len(target_vectorization(train_target_texts[random_sample]))):\n",
        "    target_decoded_text += target_vectorization.get_vocabulary()[target_vectorization(train_target_texts[random_sample])[i]] + ' '\n",
        "print(\"Target decoded texts (one random sample):\", target_decoded_text)"
      ],
      "metadata": {
        "colab": {
          "base_uri": "https://localhost:8080/"
        },
        "id": "2XWTDC6-TJ6q",
        "outputId": "f9f56a52-6604-4caa-99c6-ade34cf6f0d0"
      },
      "execution_count": null,
      "outputs": [
        {
          "output_type": "stream",
          "name": "stdout",
          "text": [
            "Source texts (one random sample): It's very clean.\n",
            "Target texts (one random sample): [start] C'est très propre. [end]\n",
            "Source vectors (one random sample): tf.Tensor(\n",
            "[ 47  54 599   0   0   0   0   0   0   0   0   0   0   0   0   0   0   0\n",
            "   0   0   0   0   0   0   0   0   0   0   0   0], shape=(30,), dtype=int64)\n",
            "Target vectors (one random sample): tf.Tensor(\n",
            "[  2  29  53 614   3   0   0   0   0   0   0   0   0   0   0   0   0   0\n",
            "   0   0   0   0   0   0   0   0   0   0   0   0   0], shape=(31,), dtype=int64)\n",
            "Source decoded texts (one random sample): its very clean                            \n",
            "Target decoded texts (one random sample): [start] cest très propre [end]                           \n"
          ]
        }
      ]
    },
    {
      "cell_type": "code",
      "source": [
        "# display the shape of our vectorized data\n",
        "train_source_vectors = source_vectorization(train_source_texts)\n",
        "train_target_vectors = target_vectorization(train_target_texts)\n",
        "print(\"Source vectors (shape):\", train_source_vectors.shape)\n",
        "print(\"Target vectors (shape):\", train_target_vectors.shape)"
      ],
      "metadata": {
        "colab": {
          "base_uri": "https://localhost:8080/"
        },
        "id": "GdE7k9igTXso",
        "outputId": "a82312f9-4653-4f3d-c5e4-23a976882c50"
      },
      "execution_count": null,
      "outputs": [
        {
          "output_type": "stream",
          "name": "stdout",
          "text": [
            "Source vectors (shape): (122934, 30)\n",
            "Target vectors (shape): (122934, 31)\n"
          ]
        }
      ]
    },
    {
      "cell_type": "markdown",
      "source": [
        "#Building Transformer\n",
        "Positional Embedding"
      ],
      "metadata": {
        "id": "U2Cn-5PoxI8n"
      }
    },
    {
      "cell_type": "code",
      "source": [
        "class PositionalEmbedding(tf.keras.layers.Layer):\n",
        "    def __init__(self, sequence_length, input_dim, output_dim, **kwargs):\n",
        "        super().__init__(**kwargs)\n",
        "        self.token_embeddings = tf.keras.layers.Embedding(input_dim=input_dim, output_dim=output_dim) # token embedding layer\n",
        "        self.position_embeddings = tf.keras.layers.Embedding(input_dim=sequence_length, output_dim=output_dim) # position embedding layer\n",
        "        self.sequence_length = sequence_length\n",
        "        self.input_dim = input_dim\n",
        "        self.output_dim = output_dim\n",
        "\n",
        "    def call(self, inputs):\n",
        "        embedded_tokens = self.token_embeddings(inputs) # embed the tokens\n",
        "        length = tf.shape(inputs)[-1]\n",
        "        positions = tf.range(start=0, limit=length, delta=1) # create the positional information\n",
        "        embedded_positions = self.position_embeddings(positions) \n",
        "        # embed the positions \n",
        "        return embedded_tokens + embedded_positions # add the token and position embeddings to create the positional embeddings\n",
        "\n",
        "    def compute_mask(self, inputs, mask=None):\n",
        "        return tf.math.not_equal(inputs, 0)\n",
        "\n",
        "    def get_config(self):\n",
        "        config = super(PositionalEmbedding, self).get_config()\n",
        "        config.update({\n",
        "            \"input_dim\": self.input_dim,\n",
        "            \"output_dim\": self.output_dim,\n",
        "            \"sequence_length\": self.sequence_length,\n",
        "        })\n",
        "        return config"
      ],
      "metadata": {
        "id": "G3btPF2XTXpO"
      },
      "execution_count": null,
      "outputs": []
    },
    {
      "cell_type": "code",
      "source": [
        "# display a random sample before and after embbeding just to test our class\n",
        "\n",
        "embed_dim = 256\n",
        "train_source_embedded = PositionalEmbedding(\n",
        "    sequence_length=sequence_length,\n",
        "    input_dim=max_tokens,\n",
        "    output_dim=embed_dim,\n",
        "    name=\"source_embedding\",\n",
        ") (train_source_vectors)\n",
        "\n",
        "train_target_embedded = PositionalEmbedding(\n",
        "    sequence_length=sequence_length,\n",
        "    input_dim=max_tokens,\n",
        "    output_dim=embed_dim,\n",
        "    name=\"target_embedding\",\n",
        ") (train_source_vectors)\n",
        "\n",
        "random_sample = random.randint(0, len(train_df))\n",
        "print(\"Source texts (one random sample):\", train_source_texts[random_sample])\n",
        "print(\"Target texts (one random sample):\", train_target_texts[random_sample])\n",
        "print(\"Source vectors (one random sample):\", source_vectorization(train_source_texts[random_sample]))\n",
        "print(\"Target vectors (one random sample):\", target_vectorization(train_target_texts[random_sample]))\n",
        "print(\"Source embedded vectors (one random sample):\", train_source_embedded[random_sample])\n",
        "print(\"Target embedded vectors (one random sample):\", train_target_embedded[random_sample])"
      ],
      "metadata": {
        "id": "74lVsX76TXmO",
        "colab": {
          "base_uri": "https://localhost:8080/"
        },
        "outputId": "4694b716-edfd-4787-f322-2679bee61e72"
      },
      "execution_count": null,
      "outputs": [
        {
          "output_type": "stream",
          "name": "stdout",
          "text": [
            "Source texts (one random sample): Is the school on this side of the river?\n",
            "Target texts (one random sample): [start] Est-ce que l'école est de ce côté de la rivière ? [end]\n",
            "Source vectors (one random sample): tf.Tensor(\n",
            "[  7   5 161  33  14 785  12   5 680   0   0   0   0   0   0   0   0   0\n",
            "   0   0   0   0   0   0   0   0   0   0   0   0], shape=(30,), dtype=int64)\n",
            "Target vectors (one random sample): tf.Tensor(\n",
            "[   2   81    7  217   15    5   17  473    5   10 7193    3    0    0\n",
            "    0    0    0    0    0    0    0    0    0    0    0    0    0    0\n",
            "    0    0    0], shape=(31,), dtype=int64)\n",
            "Source embedded vectors (one random sample): tf.Tensor(\n",
            "[[-0.03575045  0.00688008 -0.05422808 ... -0.09192665 -0.05659594\n",
            "  -0.02424612]\n",
            " [ 0.05053169  0.03264599 -0.0571413  ... -0.00876415  0.00909493\n",
            "  -0.09554061]\n",
            " [-0.00118278  0.02178463  0.01152462 ...  0.02620129  0.0029407\n",
            "  -0.05680144]\n",
            " ...\n",
            " [ 0.0136307   0.03146141  0.01165657 ... -0.05878459 -0.05308883\n",
            "   0.00865269]\n",
            " [ 0.04181018 -0.00565334 -0.02330199 ... -0.07107943  0.01188804\n",
            "  -0.00084232]\n",
            " [ 0.08709629 -0.01374204  0.02567553 ... -0.0434212  -0.02798757\n",
            "   0.03241391]], shape=(30, 256), dtype=float32)\n",
            "Target embedded vectors (one random sample): tf.Tensor(\n",
            "[[-0.00058928 -0.03342858 -0.07130072 ... -0.0002     -0.04495467\n",
            "  -0.00382657]\n",
            " [ 0.01144039 -0.071211   -0.03300607 ...  0.04235953 -0.00169957\n",
            "  -0.02311405]\n",
            " [ 0.08250492  0.00632177 -0.05011978 ... -0.00184779  0.01706692\n",
            "   0.08522455]\n",
            " ...\n",
            " [ 0.02885743  0.04146061  0.02961761 ... -0.01533862  0.01089246\n",
            "   0.02743454]\n",
            " [-0.0346993   0.00951035  0.03584491 ...  0.04013022  0.01635653\n",
            "  -0.05465078]\n",
            " [-0.01740991  0.0169573   0.00113933 ... -0.01503538 -0.03543378\n",
            "  -0.04402897]], shape=(30, 256), dtype=float32)\n"
          ]
        }
      ]
    },
    {
      "cell_type": "code",
      "source": [
        "# display the shape of our embedded data just to test the class\n",
        "print(\"Source embedded vectors (shape):\", train_source_embedded.shape)\n",
        "print(\"Target embedded vectors (shape):\", train_target_embedded.shape)"
      ],
      "metadata": {
        "id": "6bK6_9gDTXjL",
        "colab": {
          "base_uri": "https://localhost:8080/"
        },
        "outputId": "05412ae9-f13b-4d98-a119-5760a7ed3ba2"
      },
      "execution_count": null,
      "outputs": [
        {
          "output_type": "stream",
          "name": "stdout",
          "text": [
            "Source embedded vectors (shape): (122934, 30, 256)\n",
            "Target embedded vectors (shape): (122934, 30, 256)\n"
          ]
        }
      ]
    },
    {
      "cell_type": "markdown",
      "source": [
        "**The Attention mechanism**\n",
        "\n",
        "Causal Masking"
      ],
      "metadata": {
        "id": "ocSr3qPX2H8_"
      }
    },
    {
      "cell_type": "code",
      "source": [
        "# credits to OpenAI for that one (https://github.com/openai/gpt-2/blob/master/src/model.py)\n",
        "\n",
        "def shape_list(x):\n",
        "    \"\"\"Deal with dynamic shape in tensorflow cleanly.\"\"\"\n",
        "    static = x.shape.as_list()\n",
        "    dynamic = tf.shape(x)\n",
        "    return [dynamic[i] if s is None else s for i, s in enumerate(static)]\n",
        "\n",
        "def attention_mask(nd, ns, *, dtype):\n",
        "    \"\"\"1's in the lower triangle, counting from the lower right corner.\n",
        "    Same as tf.matrix_band_part(tf.ones([nd, ns]), -1, ns-nd), but doesn't produce garbage on TPUs.\n",
        "    \"\"\"\n",
        "    i = tf.range(nd)[:,None]\n",
        "    j = tf.range(ns)\n",
        "    m = i >= j - ns + nd\n",
        "    return tf.cast(m, dtype)\n",
        "def mask_attn_weights(w):\n",
        "    # w has shape [batch, heads, dst_sequence, src_sequence], where information flows from src to dst.\n",
        "    _, _, nd, ns = shape_list(w)\n",
        "    b = attention_mask(nd, ns, dtype=w.dtype)\n",
        "    b = tf.reshape(b, [1, 1, nd, ns])\n",
        "    w = w*b - tf.cast(1e10, w.dtype)*(1-b)\n",
        "    return w"
      ],
      "metadata": {
        "id": "4GudWQz_vVyo"
      },
      "execution_count": null,
      "outputs": []
    },
    {
      "cell_type": "code",
      "source": [
        "# display the causal masking of a random tensor just to test the function\n",
        "random_tensor = tf.random.uniform(shape=(1, 1, 5, 5), minval=0, maxval=1, dtype=tf.float32)\n",
        "print(\"Masked attention weights:\", mask_attn_weights(random_tensor))"
      ],
      "metadata": {
        "id": "y2T131VtvVuS",
        "colab": {
          "base_uri": "https://localhost:8080/"
        },
        "outputId": "95792dc5-c1ca-46c6-dd49-36ff2dc057a0"
      },
      "execution_count": null,
      "outputs": [
        {
          "output_type": "stream",
          "name": "stdout",
          "text": [
            "Masked attention weights: tf.Tensor(\n",
            "[[[[ 3.5926497e-01 -1.0000000e+10 -1.0000000e+10 -1.0000000e+10\n",
            "    -1.0000000e+10]\n",
            "   [ 1.0210156e-02  4.6676528e-01 -1.0000000e+10 -1.0000000e+10\n",
            "    -1.0000000e+10]\n",
            "   [ 4.6962190e-01  7.4541569e-03  5.0332975e-01 -1.0000000e+10\n",
            "    -1.0000000e+10]\n",
            "   [ 5.2242863e-01  9.3802702e-01  2.2934878e-01  6.6834188e-01\n",
            "    -1.0000000e+10]\n",
            "   [ 8.6922121e-01  8.5046291e-02  3.9657211e-01  9.4453347e-01\n",
            "     2.1551991e-01]]]], shape=(1, 1, 5, 5), dtype=float32)\n"
          ]
        }
      ]
    },
    {
      "cell_type": "markdown",
      "source": [
        "Scaled Dot-Product Attention"
      ],
      "metadata": {
        "id": "PBNYYjto2TOn"
      }
    },
    {
      "cell_type": "code",
      "source": [
        "def scaled_dot_product_attention(q, k, v, use_causal_mask=False):\n",
        "    d_k = tf.cast(tf.shape(k)[-1], tf.float32)\n",
        "    scores = tf.matmul(q, k, transpose_b=True) # Matmul of Q and K\n",
        "    scaled_scores = scores / tf.math.sqrt(d_k) # Scale\n",
        "    if use_causal_mask:\n",
        "        scaled_scores = mask_attn_weights(scaled_scores) # Mask (opt.)\n",
        "    weights = tf.nn.softmax(scaled_scores, axis=-1) # SoftMax\n",
        "    output = tf.matmul(weights, v) # Matmul of SoftMax and V\n",
        "    return output"
      ],
      "metadata": {
        "id": "hefSYKzovVq1"
      },
      "execution_count": null,
      "outputs": []
    },
    {
      "cell_type": "code",
      "source": [
        "# display the shape of our attention output just to test the function\n",
        "input = train_source_embedded\n",
        "input = tf.expand_dims(input, axis=1)\n",
        "print(\"Scaled dot product attention (shape):\", scaled_dot_product_attention(input, input, input, use_causal_mask=True).shape)"
      ],
      "metadata": {
        "id": "Edp84E_YvVmG",
        "colab": {
          "base_uri": "https://localhost:8080/"
        },
        "outputId": "3c042a18-0639-459f-8d01-97e8572374f8"
      },
      "execution_count": null,
      "outputs": [
        {
          "output_type": "stream",
          "name": "stdout",
          "text": [
            "Scaled dot product attention (shape): (122934, 1, 30, 256)\n"
          ]
        }
      ]
    },
    {
      "cell_type": "markdown",
      "source": [
        "Multi-Head Attention"
      ],
      "metadata": {
        "id": "3clvgjIk2X29"
      }
    },
    {
      "cell_type": "code",
      "source": [
        "class MultiHeadAttention(tf.keras.layers.Layer):\n",
        "    def __init__(self, embed_dim, h, **kwargs):\n",
        "        super().__init__(**kwargs)\n",
        "        self.embed_dim = embed_dim\n",
        "        self.h = h\n",
        "        if embed_dim % h != 0:\n",
        "            raise ValueError(\n",
        "                f\"dimension of the embedding space = {embed_dim} should be divisible by number of heads = {h}\"\n",
        "            )\n",
        "        self.q_linear = tf.keras.layers.Dense(embed_dim)\n",
        "        self.k_linear = tf.keras.layers.Dense(embed_dim)\n",
        "        self.v_linear = tf.keras.layers.Dense(embed_dim)\n",
        "        self.concat_linear = tf.keras.layers.Dense(embed_dim)\n",
        "\n",
        "    def split_heads(self, x, batch_size):\n",
        "        x = tf.reshape(x, shape=(batch_size, -1, self.h, self.embed_dim // self.h))\n",
        "        return tf.transpose(x, perm=[0, 2, 1, 3])\n",
        "    \n",
        "    def concat_heads(self, x, batch_size):\n",
        "        x = tf.transpose(x, perm=[0, 2, 1, 3])\n",
        "        return tf.reshape(x, (batch_size, -1, self.embed_dim))\n",
        "\n",
        "    def call(self, q, k, v, use_causal_mask=False):\n",
        "        batch_size = tf.shape(k)[0]\n",
        "        q = self.q_linear(q)\n",
        "        k = self.k_linear(k)\n",
        "        v = self.v_linear(v)\n",
        "        q = self.split_heads(q, batch_size)\n",
        "        k = self.split_heads(k, batch_size)\n",
        "        v = self.split_heads(v, batch_size)\n",
        "        attention = scaled_dot_product_attention(q, k, v, use_causal_mask)\n",
        "        concat = self.concat_heads(attention, batch_size)\n",
        "        concat = self.concat_linear(concat)\n",
        "        return concat\n",
        "\n",
        "    def get_config(self):\n",
        "        config = super(MultiHeadAttention, self).get_config()\n",
        "        config.update({\n",
        "            \"embed_dim\": self.embed_dim,\n",
        "            \"h\": self.h,\n",
        "        })\n",
        "        return config"
      ],
      "metadata": {
        "id": "rtcYVRqHvVip"
      },
      "execution_count": null,
      "outputs": []
    },
    {
      "cell_type": "markdown",
      "source": [
        "**The Encoder**"
      ],
      "metadata": {
        "id": "s020qFMd2ea7"
      }
    },
    {
      "cell_type": "code",
      "source": [
        "class TransformerEncoder(tf.keras.layers.Layer):\n",
        "    def __init__(self, embed_dim, dense_dim, num_heads, **kwargs):\n",
        "        super().__init__(**kwargs)\n",
        "        self.embed_dim = embed_dim\n",
        "        self.dense_dim = dense_dim\n",
        "        self.num_heads = num_heads\n",
        "        self.layer_norm_1 = tf.keras.layers.LayerNormalization()\n",
        "        self.layer_norm_2 = tf.keras.layers.LayerNormalization()\n",
        "        self.global_self_attention = MultiHeadAttention(embed_dim=embed_dim, h=num_heads)\n",
        "        self.feed_forward = tf.keras.Sequential(\n",
        "            [tf.keras.layers.Dense(dense_dim, activation=\"relu\"),\n",
        "             tf.keras.layers.Dense(embed_dim),]\n",
        "        )\n",
        "        \n",
        "    def call(self, x):\n",
        "        # Post layer normalization + residual connections\n",
        "        x = self.layer_norm_1(x + self.global_self_attention(q=x, k=x, v=x))\n",
        "        x = self.layer_norm_2(x + self.feed_forward(x))\n",
        "        return x\n",
        "\n",
        "    def get_config(self):\n",
        "        config = super().get_config()\n",
        "        config.update({\n",
        "            \"embed_dim\": self.embed_dim,\n",
        "            \"dense_dim\": self.dense_dim,\n",
        "            \"num_heads\": self.num_heads,\n",
        "        })\n",
        "        return config"
      ],
      "metadata": {
        "id": "j6Bnu6HYvuBg"
      },
      "execution_count": null,
      "outputs": []
    },
    {
      "cell_type": "markdown",
      "source": [
        "**The Decoder**"
      ],
      "metadata": {
        "id": "wyMmIzMr2k2s"
      }
    },
    {
      "cell_type": "code",
      "source": [
        "class TransformerDecoder(tf.keras.layers.Layer):\n",
        "    def __init__(self, embed_dim, dense_dim, num_heads, **kwargs):\n",
        "        super().__init__(**kwargs)\n",
        "        self.embed_dim = embed_dim\n",
        "        self.dense_dim = dense_dim\n",
        "        self.num_heads = num_heads\n",
        "        self.causal_self_attention = MultiHeadAttention(embed_dim=embed_dim, h=num_heads)\n",
        "        self.cross_attention = MultiHeadAttention(embed_dim=embed_dim, h=num_heads)\n",
        "        self.feed_forward = tf.keras.Sequential(\n",
        "            [tf.keras.layers.Dense(dense_dim, activation=\"relu\"),\n",
        "             tf.keras.layers.Dense(embed_dim),]\n",
        "        )\n",
        "        self.layer_norm_1 = tf.keras.layers.LayerNormalization()\n",
        "        self.layer_norm_2 = tf.keras.layers.LayerNormalization()\n",
        "        self.layer_norm_3 = tf.keras.layers.LayerNormalization()\n",
        "\n",
        "    def get_config(self):\n",
        "        config = super().get_config()\n",
        "        config.update({\n",
        "            \"embed_dim\": self.embed_dim,\n",
        "            \"dense_dim\": self.dense_dim,\n",
        "            \"num_heads\": self.num_heads,\n",
        "        })\n",
        "        return config\n",
        "\n",
        "    def call(self, x, context):\n",
        "        # Post layer normalization + residual connections\n",
        "        x = self.layer_norm_1(x + self.causal_self_attention(q=x, k=x, v=x, use_causal_mask=True))\n",
        "        x = self.layer_norm_2(x + self.cross_attention(q=x, k=context, v=context))\n",
        "        x = self.layer_norm_3(x + self.feed_forward(x))\n",
        "        return x"
      ],
      "metadata": {
        "id": "Jo77jpLwvt_W"
      },
      "execution_count": null,
      "outputs": []
    },
    {
      "cell_type": "markdown",
      "source": [
        "**Putting it all together**"
      ],
      "metadata": {
        "id": "v9vde0Ps2rSZ"
      }
    },
    {
      "cell_type": "code",
      "source": [
        "batch_size = 64\n",
        "\n",
        "def format_dataset(source, target):\n",
        "    source_vectors = source_vectorization(source)\n",
        "    target_vectors = target_vectorization(target)\n",
        "    return ({\n",
        "        \"source\": source_vectors, # encoder_inputs\n",
        "        \"target\": target_vectors[:, :-1], # decoder_inputs (truncate by 1 to keep it at the same length as decoder_outputs, which is shifted right by 1).\n",
        "    }, target_vectors[:, 1:]) # decoder_outputs\n",
        "\n",
        "def make_dataset(df):\n",
        "    dataset = tf.data.Dataset.from_tensor_slices((df[\"source\"].values, df[\"target\"].values))\n",
        "    dataset = dataset.batch(batch_size)\n",
        "    dataset = dataset.map(format_dataset, num_parallel_calls=4)\n",
        "    return dataset.shuffle(2048).prefetch(16).cache()\n",
        "\n",
        "train_ds = make_dataset(train_df)\n",
        "val_ds = make_dataset(val_df)"
      ],
      "metadata": {
        "id": "_O9OkScXvt7o"
      },
      "execution_count": null,
      "outputs": []
    },
    {
      "cell_type": "code",
      "source": [
        "# display the shape of the first batch of data in the dataset just to see what it looks like\n",
        "for batch in train_ds.take(1):\n",
        "    print(\"Encoder Inputs:\", batch[0][\"source\"].shape)\n",
        "    print(\"Decoder Inputs:\", batch[0][\"target\"].shape)\n",
        "    print(\"Decoder Outputs:\", batch[1].shape)"
      ],
      "metadata": {
        "id": "pULIy27fvt46",
        "colab": {
          "base_uri": "https://localhost:8080/"
        },
        "outputId": "8edaee48-a8b4-4bcf-9ac0-a809af1fee75"
      },
      "execution_count": null,
      "outputs": [
        {
          "output_type": "stream",
          "name": "stdout",
          "text": [
            "Encoder Inputs: (64, 30)\n",
            "Decoder Inputs: (64, 30)\n",
            "Decoder Outputs: (64, 30)\n"
          ]
        }
      ]
    },
    {
      "cell_type": "code",
      "source": [
        "embed_dim = 512 # dimension of the embedding space\n",
        "dense_dim = 2048 # dimension of the feed forward network (a rule of thumb is to use 4 times the size of the embeddings)\n",
        "num_heads = 8\n",
        "\n",
        "# the transformer body\n",
        "encoder_inputs = tf.keras.Input(shape=(None,), dtype=\"int64\", name=\"source\")\n",
        "x = PositionalEmbedding(sequence_length, max_tokens, embed_dim)(encoder_inputs)\n",
        "encoder_outputs = TransformerEncoder(embed_dim, dense_dim, num_heads)(x)\n",
        "decoder_inputs = tf.keras.Input(shape=(None,), dtype=\"int64\", name=\"target\")\n",
        "x = PositionalEmbedding(sequence_length, max_tokens, embed_dim)(decoder_inputs)\n",
        "x = TransformerDecoder(embed_dim, dense_dim, num_heads)(x, encoder_outputs)\n",
        "\n",
        "# the transformer head\n",
        "x = tf.keras.layers.Dropout(0.5)(x)\n",
        "decoder_outputs = tf.keras.layers.Dense(max_tokens, activation=\"softmax\")(x)\n",
        "\n",
        "transformer = tf.keras.Model([encoder_inputs, decoder_inputs], decoder_outputs)"
      ],
      "metadata": {
        "id": "cJd0rsPlv3F8"
      },
      "execution_count": null,
      "outputs": []
    },
    {
      "cell_type": "markdown",
      "source": [
        "#Training the Transformer"
      ],
      "metadata": {
        "id": "VjdhEbJz2yzN"
      }
    },
    {
      "cell_type": "markdown",
      "source": [
        "Let's translate a few random test sentences with our newly-trained Transformer.\n",
        "\n"
      ],
      "metadata": {
        "id": "2U8x1tSV27Uf"
      }
    },
    {
      "cell_type": "code",
      "source": [
        "transformer.compile(\n",
        "    optimizer=\"rmsprop\",\n",
        "    loss=\"sparse_categorical_crossentropy\",\n",
        "    metrics=[\"accuracy\"])\n",
        "\n",
        "EPOCHS = 50\n",
        "checkpoint_filepath = '/tmp/checkpoint/'\n",
        "callbacks_list = [\n",
        "    tf.keras.callbacks.ReduceLROnPlateau(\n",
        "        monitor='val_loss',\n",
        "        factor=0.1,\n",
        "        patience=3,\n",
        "    ),\n",
        "    tf.keras.callbacks.EarlyStopping(\n",
        "        monitor='val_loss',\n",
        "        patience=6,\n",
        "    ),\n",
        "    tf.keras.callbacks.ModelCheckpoint(\n",
        "        filepath=checkpoint_filepath,\n",
        "        save_weights_only=True,\n",
        "        monitor='val_loss',\n",
        "        mode='min',\n",
        "        save_best_only=True\n",
        "    ),\n",
        "]\n",
        "    \n",
        "transformer.fit(train_ds, \n",
        "                epochs=EPOCHS, \n",
        "                callbacks=callbacks_list,\n",
        "                validation_data=val_ds)\n",
        "\n",
        "transformer.load_weights(checkpoint_filepath)"
      ],
      "metadata": {
        "colab": {
          "base_uri": "https://localhost:8080/"
        },
        "id": "IeoWz1sm217u",
        "outputId": "4a22b5fb-7fa0-4e66-c42a-70b289efdb3d"
      },
      "execution_count": null,
      "outputs": [
        {
          "output_type": "stream",
          "name": "stdout",
          "text": [
            "Epoch 1/50\n",
            "1921/1921 [==============================] - 268s 132ms/step - loss: 0.9549 - accuracy: 0.8574 - val_loss: 0.6031 - val_accuracy: 0.8974 - lr: 0.0010\n",
            "Epoch 2/50\n",
            "1921/1921 [==============================] - 237s 123ms/step - loss: 0.5689 - accuracy: 0.9024 - val_loss: 0.4909 - val_accuracy: 0.9112 - lr: 0.0010\n",
            "Epoch 3/50\n",
            "1921/1921 [==============================] - 238s 124ms/step - loss: 0.4706 - accuracy: 0.9141 - val_loss: 0.4624 - val_accuracy: 0.9150 - lr: 0.0010\n",
            "Epoch 4/50\n",
            "1203/1921 [=================>............] - ETA: 1:16 - loss: 0.4211 - accuracy: 0.9204"
          ]
        }
      ]
    },
    {
      "cell_type": "markdown",
      "source": [
        "# Testing the Transformer"
      ],
      "metadata": {
        "id": "KFkrqFkLCl6k"
      }
    },
    {
      "cell_type": "code",
      "source": [
        "target_vocab = target_vectorization.get_vocabulary()\n",
        "target_index_lookup = dict(zip(range(len(target_vocab)), target_vocab))\n",
        "max_decoded_sentence_length = 30\n",
        "\n",
        "def decode_sequence(input_sentence):\n",
        "    tokenized_input_sentence = source_vectorization([input_sentence])\n",
        "    decoded_sentence = \"[start]\"\n",
        "    for i in range(max_decoded_sentence_length):\n",
        "        tokenized_target_sentence = target_vectorization(\n",
        "            [decoded_sentence])[:, :-1]\n",
        "        predictions = transformer(\n",
        "            [tokenized_input_sentence, tokenized_target_sentence])\n",
        "        sampled_token_index = np.argmax(predictions[0, i, :])\n",
        "        sampled_token = target_index_lookup[sampled_token_index]\n",
        "        decoded_sentence += \" \" + sampled_token\n",
        "        if sampled_token == \"[end]\":\n",
        "            break\n",
        "    return decoded_sentence\n",
        "\n",
        "# let's translate 50 random sentences\n",
        "for i in range(50):\n",
        "    random_index = np.random.randint(0, len(test_df))\n",
        "    input_sentence = test_df[\"source\"].iloc[random_index]\n",
        "    print(input_sentence)\n",
        "    print(decode_sequence(input_sentence))\n",
        "    print()"
      ],
      "metadata": {
        "id": "Y62F5FMvCCM9"
      },
      "execution_count": null,
      "outputs": []
    },
    {
      "cell_type": "code",
      "source": [],
      "metadata": {
        "id": "GHrZ7lKnCoan"
      },
      "execution_count": null,
      "outputs": []
    }
  ],
  "metadata": {
    "colab": {
      "provenance": []
    },
    "kernelspec": {
      "display_name": "Python 3",
      "name": "python3"
    },
    "language_info": {
      "name": "python"
    },
    "accelerator": "GPU",
    "gpuClass": "standard"
  },
  "nbformat": 4,
  "nbformat_minor": 0
}